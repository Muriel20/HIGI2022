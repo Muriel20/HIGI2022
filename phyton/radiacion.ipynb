{
  "nbformat": 4,
  "nbformat_minor": 0,
  "metadata": {
    "colab": {
      "provenance": [],
      "authorship_tag": "ABX9TyMbb5iq8oTuntdejrqi5bLe",
      "include_colab_link": true
    },
    "kernelspec": {
      "name": "python3",
      "display_name": "Python 3"
    },
    "language_info": {
      "name": "python"
    }
  },
  "cells": [
    {
      "cell_type": "markdown",
      "metadata": {
        "id": "view-in-github",
        "colab_type": "text"
      },
      "source": [
        "<a href=\"https://colab.research.google.com/github/Muriel20/HIGI2022/blob/main/phyton/radiacion.ipynb\" target=\"_parent\"><img src=\"https://colab.research.google.com/assets/colab-badge.svg\" alt=\"Open In Colab\"/></a>"
      ]
    },
    {
      "cell_type": "code",
      "execution_count": 29,
      "metadata": {
        "id": "Yw4y0IJbF6zM"
      },
      "outputs": [],
      "source": [
        "import os\n",
        "import numpy as np\n",
        "import matplotlib.pyplot as plt\n",
        "import math as math\n",
        "from scipy.optimize import minimize\n",
        "from scipy import stats"
      ]
    },
    {
      "cell_type": "code",
      "source": [
        "data=np.loadtxt(\"/content/IRCF.txt\").T"
      ],
      "metadata": {
        "id": "Av1csvpjGsgP"
      },
      "execution_count": 24,
      "outputs": []
    },
    {
      "cell_type": "code",
      "source": [
        "x=data[0]\n",
        "y=data[1]\n",
        "yerr=data[3]"
      ],
      "metadata": {
        "id": "oEN3YRZnG6d4"
      },
      "execution_count": 25,
      "outputs": []
    },
    {
      "cell_type": "code",
      "source": [
        "plt.errorbar(x,y,yerr,marker='s')"
      ],
      "metadata": {
        "colab": {
          "base_uri": "https://localhost:8080/",
          "height": 282
        },
        "id": "SVdJYJtAHE9w",
        "outputId": "e8c55bdd-92cb-437f-c39c-1566f80d8ed7"
      },
      "execution_count": 27,
      "outputs": [
        {
          "output_type": "execute_result",
          "data": {
            "text/plain": [
              "<ErrorbarContainer object of 3 artists>"
            ]
          },
          "metadata": {},
          "execution_count": 27
        },
        {
          "output_type": "display_data",
          "data": {
            "text/plain": [
              "<Figure size 432x288 with 1 Axes>"
            ],
            "image/png": "[encoded data removed]"
          },
          "metadata": {
            "needs_background": "light"
          }
        }
      ]
    },
    {
      "cell_type": "code",
      "source": [
        "def intencidad(nu,T):\n",
        " h=6.62e-34\n",
        " k=1.3806e-23\n",
        " c=3e8\n",
        " nu=nu*c*100\n",
        " fact=h*nu/(k*T)\n",
        " I=h*nu**3/c**2*1/(np.exp(fact)-1)\n",
        " return I"
      ],
      "metadata": {
        "id": "RfoQ48KzKDvW"
      },
      "execution_count": 41,
      "outputs": []
    },
    {
      "cell_type": "code",
      "source": [
        "def SI_to_MJansky(inten):\n",
        "  return inten/1e-26/1e6 "
      ],
      "metadata": {
        "id": "JMNsjDQXLXR7"
      },
      "execution_count": 42,
      "outputs": []
    },
    {
      "cell_type": "code",
      "source": [
        "data=np.loadtxt(\"/content/IRCF.txt\").T\n",
        "nu=data[0]\n",
        "plt.plot(nu,intencidad(nu,5))"
      ],
      "metadata": {
        "colab": {
          "base_uri": "https://localhost:8080/",
          "height": 293
        },
        "id": "XdswiyJ2Mj2O",
        "outputId": "1a9a4d98-c51e-4b47-9eb3-006e4822ecac"
      },
      "execution_count": 43,
      "outputs": [
        {
          "output_type": "execute_result",
          "data": {
            "text/plain": [
              "[<matplotlib.lines.Line2D at 0x7fa344993d10>]"
            ]
          },
          "metadata": {},
          "execution_count": 43
        },
        {
          "output_type": "display_data",
          "data": {
            "text/plain": [
              "<Figure size 432x288 with 1 Axes>"
            ],
            "image/png": "[encoded data removed]"
          },
          "metadata": {
            "needs_background": "light"
          }
        }
      ]
    }
  ]
}