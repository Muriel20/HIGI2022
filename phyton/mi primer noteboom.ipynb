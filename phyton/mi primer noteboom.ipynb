{
 "cells": [
  {
   "cell_type": "code",
   "execution_count": 3,
   "id": "ffd33320-8f66-40e2-99b9-0e5b41f8b7aa",
   "metadata": {},
   "outputs": [
    {
     "data": {
      "text/plain": [
       "7"
      ]
     },
     "execution_count": 3,
     "metadata": {},
     "output_type": "execute_result"
    }
   ],
   "source": [
    "5+2"
   ]
  },
  {
   "cell_type": "code",
   "execution_count": 4,
   "id": "56b82d93-b973-479f-871e-c6a981bba8a6",
   "metadata": {},
   "outputs": [],
   "source": [
    "lista=[0,1,2,3,4,5]"
   ]
  },
  {
   "cell_type": "code",
   "execution_count": 5,
   "id": "73d1b12e-eee8-4a0d-b487-288a3ac1e6d1",
   "metadata": {},
   "outputs": [
    {
     "data": {
      "text/plain": [
       "[0, 1, 2, 3, 4, 5, 0, 1, 2, 3, 4, 5]"
      ]
     },
     "execution_count": 5,
     "metadata": {},
     "output_type": "execute_result"
    }
   ],
   "source": [
    "lista*2"
   ]
  },
  {
   "cell_type": "code",
   "execution_count": 6,
   "id": "683fe3dd-abba-49d9-a318-948f7ecfa6cb",
   "metadata": {},
   "outputs": [],
   "source": [
    "lista2=[\"nombre\",\"edad\"]"
   ]
  },
  {
   "cell_type": "code",
   "execution_count": 7,
   "id": "21e0792a-0663-4834-bd1e-922843f8a93c",
   "metadata": {},
   "outputs": [
    {
     "data": {
      "text/plain": [
       "0"
      ]
     },
     "execution_count": 7,
     "metadata": {},
     "output_type": "execute_result"
    }
   ],
   "source": [
    "lista[0]"
   ]
  },
  {
   "cell_type": "code",
   "execution_count": 8,
   "id": "33e2718c-946c-4f42-b56c-5fba73a525ff",
   "metadata": {},
   "outputs": [
    {
     "data": {
      "text/plain": [
       "'nombre'"
      ]
     },
     "execution_count": 8,
     "metadata": {},
     "output_type": "execute_result"
    }
   ],
   "source": [
    "lista2[0]"
   ]
  },
  {
   "cell_type": "code",
   "execution_count": 9,
   "id": "b832d1f7-22cb-4acb-8730-def7b59989a6",
   "metadata": {},
   "outputs": [],
   "source": [
    "import numpy as np"
   ]
  },
  {
   "cell_type": "code",
   "execution_count": 12,
   "id": "96f49b9c-24e2-4ec9-9ef6-165c38618d97",
   "metadata": {},
   "outputs": [],
   "source": [
    "a=np.zeros(10)"
   ]
  },
  {
   "cell_type": "code",
   "execution_count": 13,
   "id": "50bedf6e-671d-4d7e-80ff-6eabadadd8b2",
   "metadata": {},
   "outputs": [
    {
     "data": {
      "text/plain": [
       "array([0., 0., 0., 0., 0., 0., 0., 0., 0., 0.])"
      ]
     },
     "execution_count": 13,
     "metadata": {},
     "output_type": "execute_result"
    }
   ],
   "source": [
    "a"
   ]
  },
  {
   "cell_type": "code",
   "execution_count": 14,
   "id": "2fddeb0c-5e41-41fc-b3f1-c7af9ff9eac9",
   "metadata": {},
   "outputs": [
    {
     "data": {
      "text/plain": [
       "array([2., 2., 2., 2., 2., 2., 2., 2., 2., 2.])"
      ]
     },
     "execution_count": 14,
     "metadata": {},
     "output_type": "execute_result"
    }
   ],
   "source": [
    "a+2"
   ]
  },
  {
   "cell_type": "code",
   "execution_count": 15,
   "id": "da0d278f-3c6a-49d7-9070-25630a90a9e7",
   "metadata": {},
   "outputs": [],
   "source": [
    "a=5"
   ]
  },
  {
   "cell_type": "code",
   "execution_count": 16,
   "id": "e56dc8f4-7d0a-4114-9827-a29a2d38e408",
   "metadata": {},
   "outputs": [],
   "source": [
    "b=34"
   ]
  },
  {
   "cell_type": "code",
   "execution_count": 17,
   "id": "812abc76-09e2-4c60-a168-7c9a5dc109c8",
   "metadata": {},
   "outputs": [
    {
     "name": "stdout",
     "output_type": "stream",
     "text": [
      "39\n"
     ]
    }
   ],
   "source": [
    "print((a+b))"
   ]
  },
  {
   "cell_type": "code",
   "execution_count": 18,
   "id": "48a4dd9c-f3f5-4062-b5d1-f6cb83d73bfb",
   "metadata": {},
   "outputs": [],
   "source": [
    "b=np.ones(10)"
   ]
  },
  {
   "cell_type": "code",
   "execution_count": 19,
   "id": "6640d164-a453-4ee0-8347-4a731040a2b9",
   "metadata": {},
   "outputs": [
    {
     "data": {
      "text/plain": [
       "array([6., 6., 6., 6., 6., 6., 6., 6., 6., 6.])"
      ]
     },
     "execution_count": 19,
     "metadata": {},
     "output_type": "execute_result"
    }
   ],
   "source": [
    "a+b"
   ]
  },
  {
   "cell_type": "code",
   "execution_count": 20,
   "id": "e6d6184a-cf18-4b79-83e5-e1e857a3548a",
   "metadata": {},
   "outputs": [],
   "source": [
    "a=np.zeros(10)"
   ]
  },
  {
   "cell_type": "code",
   "execution_count": 21,
   "id": "8a8bbcdc-6c03-4415-9bfe-692059aa56af",
   "metadata": {},
   "outputs": [
    {
     "data": {
      "text/plain": [
       "array([1., 1., 1., 1., 1., 1., 1., 1., 1., 1.])"
      ]
     },
     "execution_count": 21,
     "metadata": {},
     "output_type": "execute_result"
    }
   ],
   "source": [
    "a+b"
   ]
  },
  {
   "cell_type": "code",
   "execution_count": 22,
   "id": "935601d6-595d-4318-b3c7-348509aed741",
   "metadata": {},
   "outputs": [],
   "source": [
    "a=np.zeros(10)\n",
    "b=np.ones(10)\n",
    "c=np.linspace(-10,10,10)\n",
    "d=np.arange(-10,10,0.15)"
   ]
  },
  {
   "cell_type": "code",
   "execution_count": 23,
   "id": "421339ae-227d-4f9a-a0cc-3ab1bed90a0d",
   "metadata": {},
   "outputs": [
    {
     "data": {
      "text/plain": [
       "array([0., 0., 0., 0., 0., 0., 0., 0., 0., 0.])"
      ]
     },
     "execution_count": 23,
     "metadata": {},
     "output_type": "execute_result"
    }
   ],
   "source": [
    "a"
   ]
  },
  {
   "cell_type": "code",
   "execution_count": 26,
   "id": "12681eab-3195-42de-9a1f-3669299b543b",
   "metadata": {},
   "outputs": [
    {
     "data": {
      "text/plain": [
       "array([1., 1., 1., 1., 1., 1., 1., 1., 1., 1.])"
      ]
     },
     "execution_count": 26,
     "metadata": {},
     "output_type": "execute_result"
    }
   ],
   "source": [
    "b"
   ]
  },
  {
   "cell_type": "code",
   "execution_count": 27,
   "id": "6d1a54d4-ce60-49d5-b1e5-c41ac8b6bb21",
   "metadata": {},
   "outputs": [
    {
     "data": {
      "text/plain": [
       "array([-10.        ,  -7.77777778,  -5.55555556,  -3.33333333,\n",
       "        -1.11111111,   1.11111111,   3.33333333,   5.55555556,\n",
       "         7.77777778,  10.        ])"
      ]
     },
     "execution_count": 27,
     "metadata": {},
     "output_type": "execute_result"
    }
   ],
   "source": [
    "c"
   ]
  },
  {
   "cell_type": "code",
   "execution_count": 28,
   "id": "30c0ff83-d131-4e29-ae93-3a6e157b372c",
   "metadata": {},
   "outputs": [
    {
     "data": {
      "text/plain": [
       "array([-10.  ,  -9.85,  -9.7 ,  -9.55,  -9.4 ,  -9.25,  -9.1 ,  -8.95,\n",
       "        -8.8 ,  -8.65,  -8.5 ,  -8.35,  -8.2 ,  -8.05,  -7.9 ,  -7.75,\n",
       "        -7.6 ,  -7.45,  -7.3 ,  -7.15,  -7.  ,  -6.85,  -6.7 ,  -6.55,\n",
       "        -6.4 ,  -6.25,  -6.1 ,  -5.95,  -5.8 ,  -5.65,  -5.5 ,  -5.35,\n",
       "        -5.2 ,  -5.05,  -4.9 ,  -4.75,  -4.6 ,  -4.45,  -4.3 ,  -4.15,\n",
       "        -4.  ,  -3.85,  -3.7 ,  -3.55,  -3.4 ,  -3.25,  -3.1 ,  -2.95,\n",
       "        -2.8 ,  -2.65,  -2.5 ,  -2.35,  -2.2 ,  -2.05,  -1.9 ,  -1.75,\n",
       "        -1.6 ,  -1.45,  -1.3 ,  -1.15,  -1.  ,  -0.85,  -0.7 ,  -0.55,\n",
       "        -0.4 ,  -0.25,  -0.1 ,   0.05,   0.2 ,   0.35,   0.5 ,   0.65,\n",
       "         0.8 ,   0.95,   1.1 ,   1.25,   1.4 ,   1.55,   1.7 ,   1.85,\n",
       "         2.  ,   2.15,   2.3 ,   2.45,   2.6 ,   2.75,   2.9 ,   3.05,\n",
       "         3.2 ,   3.35,   3.5 ,   3.65,   3.8 ,   3.95,   4.1 ,   4.25,\n",
       "         4.4 ,   4.55,   4.7 ,   4.85,   5.  ,   5.15,   5.3 ,   5.45,\n",
       "         5.6 ,   5.75,   5.9 ,   6.05,   6.2 ,   6.35,   6.5 ,   6.65,\n",
       "         6.8 ,   6.95,   7.1 ,   7.25,   7.4 ,   7.55,   7.7 ,   7.85,\n",
       "         8.  ,   8.15,   8.3 ,   8.45,   8.6 ,   8.75,   8.9 ,   9.05,\n",
       "         9.2 ,   9.35,   9.5 ,   9.65,   9.8 ,   9.95])"
      ]
     },
     "execution_count": 28,
     "metadata": {},
     "output_type": "execute_result"
    }
   ],
   "source": [
    "d"
   ]
  },
  {
   "cell_type": "code",
   "execution_count": 31,
   "id": "350a67b2-b212-451a-bffe-eeeca8dad141",
   "metadata": {},
   "outputs": [
    {
     "ename": "ModuleNotFoundError",
     "evalue": "No module named 'matplotlib'",
     "output_type": "error",
     "traceback": [
      "\u001b[0;31m---------------------------------------------------------------------------\u001b[0m",
      "\u001b[0;31mModuleNotFoundError\u001b[0m                       Traceback (most recent call last)",
      "Input \u001b[0;32mIn [31]\u001b[0m, in \u001b[0;36m<cell line: 1>\u001b[0;34m()\u001b[0m\n\u001b[0;32m----> 1\u001b[0m \u001b[38;5;28;01mimport\u001b[39;00m \u001b[38;5;21;01mmatplotlib\u001b[39;00m\u001b[38;5;21;01m.\u001b[39;00m\u001b[38;5;21;01mpyplot\u001b[39;00m \u001b[38;5;28;01mas\u001b[39;00m \u001b[38;5;21;01mplt\u001b[39;00m\n",
      "\u001b[0;31mModuleNotFoundError\u001b[0m: No module named 'matplotlib'"
     ]
    }
   ],
   "source": [
    "import matplotlib.pyplot as plt\n"
   ]
  },
  {
   "cell_type": "code",
   "execution_count": 32,
   "id": "bba2f774-6080-4a40-99ef-d888059a7042",
   "metadata": {},
   "outputs": [
    {
     "ename": "SyntaxError",
     "evalue": "invalid syntax (4029049726.py, line 1)",
     "output_type": "error",
     "traceback": [
      "\u001b[0;36m  Input \u001b[0;32mIn [32]\u001b[0;36m\u001b[0m\n\u001b[0;31m    x=np.arange(-2np*.pi,2*np.pi,0.01)\u001b[0m\n\u001b[0m                  ^\u001b[0m\n\u001b[0;31mSyntaxError\u001b[0m\u001b[0;31m:\u001b[0m invalid syntax\n"
     ]
    }
   ],
   "source": [
    "x=np.arange(-2np*pi,2*np.pi,0.01)\n",
    "y=np.cos(x)\n",
    "plt(x,y)"
   ]
  },
  {
   "cell_type": "code",
   "execution_count": null,
   "id": "7ee3b438-10ca-45b7-a56b-6bafd4209331",
   "metadata": {},
   "outputs": [],
   "source": []
  }
 ],
 "metadata": {
  "kernelspec": {
   "display_name": "Python 3 (ipykernel)",
   "language": "python",
   "name": "python3"
  },
  "language_info": {
   "codemirror_mode": {
    "name": "ipython",
    "version": 3
   },
   "file_extension": ".py",
   "mimetype": "text/x-python",
   "name": "python",
   "nbconvert_exporter": "python",
   "pygments_lexer": "ipython3",
   "version": "3.9.12"
  }
 },
 "nbformat": 4,
 "nbformat_minor": 5
}
