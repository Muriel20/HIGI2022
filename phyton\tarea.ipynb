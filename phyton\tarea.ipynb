{
  "nbformat": 4,
  "nbformat_minor": 0,
  "metadata": {
    "colab": {
      "provenance": [],
      "authorship_tag": "ABX9TyPNW1UiLAWn3pk7kgPQXCQk",
      "include_colab_link": true
    },
    "kernelspec": {
      "name": "python3",
      "display_name": "Python 3"
    },
    "language_info": {
      "name": "python"
    }
  },
  "cells": [
    {
      "cell_type": "markdown",
      "metadata": {
        "id": "view-in-github",
        "colab_type": "text"
      },
      "source": [
        "<a href=\"https://colab.research.google.com/github/Muriel20/HIGI2022/blob/main/phyton%5Ctarea.ipynb\" target=\"_parent\"><img src=\"https://colab.research.google.com/assets/colab-badge.svg\" alt=\"Open In Colab\"/></a>"
      ]
    },
    {
      "cell_type": "code",
      "execution_count": 66,
      "metadata": {
        "id": "a2y28IlUq0GC"
      },
      "outputs": [],
      "source": [
        "\n",
        "import os\n",
        "import numpy as np\n",
        "import matplotlib.pyplot as plt\n",
        "import math as math\n",
        "import sympy\n",
        "\n"
      ]
    },
    {
      "cell_type": "code",
      "source": [
        "def solar(x0,y0,z0,vx,vy,vz,dt=0.001,M=1,m=0.000003,t0=0,G=4*np.pi**2,nsteps=1000):\n",
        " x=[x0]\n",
        " y=[y0]\n",
        " z=[z0]\n",
        " t=[t0]\n",
        " for i in range(1,nsteps):\n",
        "  r=np.sqrt(x0**2+y0**2+z0**2)\n",
        "  xi=x0+vx*dt\n",
        "  vxi=vx-(G/r**3)*x0*dt\n",
        "  yi=y0+vy*dt\n",
        "  vyi=vy-(G/r**3)*y0*dt\n",
        "  zi=z0+vz*dt\n",
        "  vzi=vz-(G/r**3)*z0*dt\n",
        "  x.append(xi)\n",
        "  t.append(t0+dt*i)\n",
        "  x0=xi\n",
        "  vx=vxi\n",
        "  z.append(zi)\n",
        "  z0=xi\n",
        "  vz=vzi\n",
        "  y.append(yi)\n",
        "  y0=yi\n",
        "  vy=vyi\n",
        "  return x,y,z,t\n",
        " \n",
        "\n",
        "\n"
      ],
      "metadata": {
        "id": "srATDDBqrfD4"
      },
      "execution_count": 65,
      "outputs": []
    },
    {
      "cell_type": "code",
      "source": [
        "x,y,z,t=solar(0.634,0.691,0.299,0.013,0.010,0.004,nsteps=1000)\n",
        "plt.plot(t,x)\n"
      ],
      "metadata": {
        "colab": {
          "base_uri": "https://localhost:8080/",
          "height": 460
        },
        "id": "6jYE0yQE0gZF",
        "outputId": "96c11d6a-bc23-4273-9739-a9170e37f4b1"
      },
      "execution_count": 68,
      "outputs": [
        {
          "output_type": "error",
          "ename": "NameError",
          "evalue": "ignored",
          "traceback": [
            "\u001b[0;31m---------------------------------------------------------------------------\u001b[0m",
            "\u001b[0;31mNameError\u001b[0m                                 Traceback (most recent call last)",
            "\u001b[0;32m<ipython-input-68-0a530a016fce>\u001b[0m in \u001b[0;36m<module>\u001b[0;34m\u001b[0m\n\u001b[1;32m      1\u001b[0m \u001b[0mx\u001b[0m\u001b[0;34m,\u001b[0m\u001b[0my\u001b[0m\u001b[0;34m,\u001b[0m\u001b[0mz\u001b[0m\u001b[0;34m,\u001b[0m\u001b[0mt\u001b[0m\u001b[0;34m=\u001b[0m\u001b[0msolar\u001b[0m\u001b[0;34m(\u001b[0m\u001b[0;36m0.634\u001b[0m\u001b[0;34m,\u001b[0m\u001b[0;36m0.691\u001b[0m\u001b[0;34m,\u001b[0m\u001b[0;36m0.299\u001b[0m\u001b[0;34m,\u001b[0m\u001b[0;36m0.013\u001b[0m\u001b[0;34m,\u001b[0m\u001b[0;36m0.010\u001b[0m\u001b[0;34m,\u001b[0m\u001b[0;36m0.004\u001b[0m\u001b[0;34m,\u001b[0m\u001b[0mnsteps\u001b[0m\u001b[0;34m=\u001b[0m\u001b[0;36m1000\u001b[0m\u001b[0;34m)\u001b[0m\u001b[0;34m\u001b[0m\u001b[0;34m\u001b[0m\u001b[0m\n\u001b[1;32m      2\u001b[0m \u001b[0mplt\u001b[0m\u001b[0;34m.\u001b[0m\u001b[0mplot\u001b[0m\u001b[0;34m(\u001b[0m\u001b[0mt\u001b[0m\u001b[0;34m,\u001b[0m\u001b[0mx\u001b[0m\u001b[0;34m)\u001b[0m\u001b[0;34m\u001b[0m\u001b[0;34m\u001b[0m\u001b[0m\n\u001b[0;32m----> 3\u001b[0;31m \u001b[0mG\u001b[0m\u001b[0;34m\u001b[0m\u001b[0;34m\u001b[0m\u001b[0m\n\u001b[0m",
            "\u001b[0;31mNameError\u001b[0m: name 'G' is not defined"
          ]
        },
        {
          "output_type": "display_data",
          "data": {
            "text/plain": [
              "<Figure size 432x288 with 1 Axes>"
            ],
            "image/png": "[encoded data removed]"
          },
          "metadata": {
            "needs_background": "light"
          }
        }
      ]
    }
  ]
}